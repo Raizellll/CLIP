{
 "cells": [
  {
   "cell_type": "markdown",
   "metadata": {},
   "source": [
    "# CLIPText Implementation\n",
    "\n",
    "This notebook implements CLIPText from the paper \"CLIPTEXT: A New Paradigm for Zero-shot Text Classification\""
   ]
  },
  {
   "cell_type": "code",
   "execution_count": 1,
   "metadata": {},
   "outputs": [],
   "source": [
    "import torch\n",
    "import torch.nn as nn\n",
    "import torch.nn.functional as F\n",
    "from transformers import CLIPProcessor, CLIPModel\n",
    "from torch.utils.data import Dataset, DataLoader\n",
    "import pandas as pd\n",
    "import numpy as np\n",
    "from PIL import Image\n",
    "import requests\n",
    "from io import BytesIO\n",
    "import clip\n",
    "import matplotlib.pyplot as plt\n",
    "from sklearn.metrics import classification_report, confusion_matrix\n",
    "\n",
    "device = torch.device('cuda' if torch.cuda.is_available() else 'cpu')"
   ]
  },
  {
   "cell_type": "markdown",
   "metadata": {},
   "source": [
    "## 1. Load Pre-trained CLIP Model\n",
    "\n",
    "We'll use the pre-trained CLIP model from Hugging Face"
   ]
  },
  {
   "cell_type": "code",
   "execution_count": 2,
   "metadata": {},
   "outputs": [],
   "source": [
    "# Load CLIP model and processor\n",
    "model, preprocess = clip.load(\"ViT-B/32\", device=device)"
   ]
  },
  {
   "cell_type": "markdown",
   "metadata": {},
   "source": [
    "## 2. Text Classification Dataset\n",
    "\n",
    "Let's implement a dataset class for text classification"
   ]
  },
  {
   "cell_type": "code",
   "execution_count": 3,
   "metadata": {},
   "outputs": [],
   "source": [
    "class TextClassificationDataset(Dataset):\n",
    "    \"\"\"\n",
    "    文本分类数据集类\n",
    "    Args:\n",
    "        texts: 文本列表\n",
    "        labels: 标签列表\n",
    "        transform: 文本转换函数(如prompt模板)\n",
    "    \"\"\"\n",
    "    def __init__(self, texts, labels, transform=None):\n",
    "        self.texts = texts\n",
    "        self.labels = labels\n",
    "        self.transform = transform\n",
    "        \n",
    "    def __len__(self):\n",
    "        return len(self.texts)\n",
    "    \n",
    "    def __getitem__(self, idx):\n",
    "        text = self.texts[idx]\n",
    "        label = self.labels[idx]\n",
    "        \n",
    "        if self.transform:\n",
    "            text = self.transform(text)\n",
    "            \n",
    "        return text, label"
   ]
  },
  {
   "cell_type": "markdown",
   "metadata": {},
   "source": [
    "## 3. Label-to-Image Mapping\n",
    "\n",
    "Function to map text labels to corresponding images"
   ]
  },
  {
   "cell_type": "code",
   "execution_count": 4,
   "metadata": {},
   "outputs": [],
   "source": [
    "def load_image_from_url(url):\n",
    "    \"\"\"\n",
    "    从URL加载图片\n",
    "    Args:\n",
    "        url: 图片URL\n",
    "    Returns:\n",
    "        PIL Image对象\n",
    "    \"\"\"\n",
    "    try:\n",
    "        response = requests.get(url)\n",
    "        img = Image.open(BytesIO(response.content))\n",
    "        if img.mode != 'RGB':\n",
    "            img = img.convert('RGB')\n",
    "        return img\n",
    "    except Exception as e:\n",
    "        print(f\"Error loading image from {url}: {e}\")\n",
    "        return Image.new('RGB', (224, 224), 'black')\n",
    "\n",
    "def get_label_images(label_list):\n",
    "    \"\"\"\n",
    "    为标签获取对应的图片\n",
    "    Args:\n",
    "        label_list: 标签列表\n",
    "    Returns:\n",
    "        dict: 标签到图片的映射\n",
    "    \"\"\"\n",
    "    label_to_image = {}\n",
    "    \n",
    "    # 为每个标签定义对应的图片URL\n",
    "    image_urls = {\n",
    "        # 这里使用更有代表性的图片URL\n",
    "        \"sports\": \"https://raw.githubusercontent.com/openai/CLIP/main/CLIP.png\",\n",
    "        \"business\": \"https://raw.githubusercontent.com/openai/CLIP/main/CLIP.png\", \n",
    "        \"world\": \"https://raw.githubusercontent.com/openai/CLIP/main/CLIP.png\",\n",
    "        \"sci/tech\": \"https://raw.githubusercontent.com/openai/CLIP/main/CLIP.png\"\n",
    "    }\n",
    "    \n",
    "    for label in label_list:\n",
    "        img_url = image_urls.get(label, \"https://raw.githubusercontent.com/openai/CLIP/main/CLIP.png\")\n",
    "        label_to_image[label] = load_image_from_url(img_url)\n",
    "    return label_to_image"
   ]
  },
  {
   "cell_type": "markdown",
   "metadata": {},
   "source": [
    "## 4. CLIPText Model\n",
    "\n",
    "Implement the CLIPText model for zero-shot text classification"
   ]
  },
  {
   "cell_type": "code",
   "execution_count": 5,
   "metadata": {},
   "outputs": [],
   "source": [
    "class CLIPText:\n",
    "    \"\"\"\n",
    "    CLIPText模型类\n",
    "    使用CLIP进行零样本文本分类\n",
    "    \"\"\"\n",
    "    def __init__(self, model, preprocess, label_images):\n",
    "        self.model = model\n",
    "        self.preprocess = preprocess\n",
    "        self.label_images = label_images\n",
    "        \n",
    "    def predict(self, texts, return_probs=False):\n",
    "        \"\"\"\n",
    "        预测文本类别\n",
    "        Args:\n",
    "            texts: 文本或文本列表\n",
    "            return_probs: 是否返回概率\n",
    "        Returns:\n",
    "            预测标签和概率(如果return_probs=True)\n",
    "        \"\"\"\n",
    "        if isinstance(texts, str):\n",
    "            texts = [texts]\n",
    "            \n",
    "        # 文本编码\n",
    "        text_tokens = clip.tokenize(texts).to(device)\n",
    "        \n",
    "        # 图片预处理\n",
    "        images = []\n",
    "        for img in self.label_images.values():\n",
    "            processed_img = self.preprocess(img).unsqueeze(0).to(device)\n",
    "            images.append(processed_img)\n",
    "        image_input = torch.cat(images)\n",
    "        \n",
    "        # 获取特征和预测\n",
    "        with torch.no_grad():\n",
    "            text_features = self.model.encode_text(text_tokens)\n",
    "            image_features = self.model.encode_image(image_input)\n",
    "            \n",
    "            # 特征归一化\n",
    "            text_features = text_features / text_features.norm(dim=-1, keepdim=True)\n",
    "            image_features = image_features / image_features.norm(dim=-1, keepdim=True)\n",
    "            \n",
    "            # 计算相似度\n",
    "            similarity = torch.matmul(text_features, image_features.t())\n",
    "            \n",
    "            # Softmax获取概率\n",
    "            probs = F.softmax(similarity * 100.0, dim=-1)\n",
    "            \n",
    "            # 获取预测\n",
    "            predictions = similarity.argmax(dim=-1)\n",
    "        \n",
    "        # 转换为标签\n",
    "        label_list = list(self.label_images.keys())\n",
    "        predicted_labels = [label_list[i] for i in predictions.cpu().numpy()]\n",
    "        \n",
    "        if return_probs:\n",
    "            return predicted_labels, probs.cpu().numpy()\n",
    "        return predicted_labels[0] if len(texts) == 1 else predicted_labels\n"
   ]
  },
  {
   "cell_type": "markdown",
   "metadata": {},
   "source": [
    "## 5. Prompt Engineering\n",
    "\n",
    "Add prompt templates for different classification tasks"
   ]
  },
  {
   "cell_type": "code",
   "execution_count": 6,
   "metadata": {},
   "outputs": [],
   "source": [
    "class PromptTemplate:\n",
    "    \"\"\"\n",
    "    Prompt模板类\n",
    "    为不同任务添加特定的prompt\n",
    "    \"\"\"\n",
    "    def __init__(self, task_type):\n",
    "        self.prompts = {\n",
    "            'topic': 'This text is about {}',\n",
    "            'emotion': 'The emotion in this text is {}',\n",
    "            'situation': 'This describes a situation of {}',\n",
    "            'intent': 'The intent of this text is {}',\n",
    "            'news': 'This is a {} news article',\n",
    "            'opinion': 'This expresses {} opinion',\n",
    "            'question': 'This is a {} type question'\n",
    "        }\n",
    "        self.task_type = task_type\n",
    "        \n",
    "    def apply(self, text):\n",
    "        template = self.prompts.get(self.task_type, '{}')\n",
    "        return template.format(text)"
   ]
  },
  {
   "cell_type": "markdown",
   "metadata": {},
   "source": [
    "## 6. Evaluation\n",
    "\n",
    "Functions to evaluate the model performance"
   ]
  },
  {
   "cell_type": "code",
   "execution_count": 7,
   "metadata": {},
   "outputs": [],
   "source": [
    "def evaluate(model, dataset, batch_size=32):\n",
    "    \"\"\"\n",
    "    评估模型性能\n",
    "    Args:\n",
    "        model: CLIPText模型\n",
    "        dataset: 数据集\n",
    "        batch_size: 批次大小\n",
    "    Returns:\n",
    "        accuracy: 准确率\n",
    "        predictions: 预测结果\n",
    "        true_labels: 真实标签\n",
    "    \"\"\"\n",
    "    dataloader = DataLoader(dataset, batch_size=batch_size)\n",
    "    predictions = []\n",
    "    true_labels = []\n",
    "    \n",
    "    for texts, labels in dataloader:\n",
    "        batch_preds = model.predict(texts)\n",
    "        predictions.extend(batch_preds)\n",
    "        true_labels.extend(labels)\n",
    "        \n",
    "    correct = sum(p == l for p, l in zip(predictions, true_labels))\n",
    "    accuracy = correct / len(true_labels) * 100\n",
    "    \n",
    "    return accuracy, predictions, true_labels"
   ]
  },
  {
   "cell_type": "code",
   "execution_count": 8,
   "metadata": {},
   "outputs": [],
   "source": [
    "def plot_confusion_matrix(true_labels, predictions, labels):\n",
    "    \"\"\"\n",
    "    绘制混淆矩阵\n",
    "    \"\"\"\n",
    "    cm = confusion_matrix(true_labels, predictions, labels=labels)\n",
    "    plt.figure(figsize=(10,8))\n",
    "    plt.imshow(cm, interpolation='nearest', cmap=plt.cm.Blues)\n",
    "    plt.title('Confusion Matrix')\n",
    "    plt.colorbar()\n",
    "    tick_marks = np.arange(len(labels))\n",
    "    plt.xticks(tick_marks, labels, rotation=45)\n",
    "    plt.yticks(tick_marks, labels)\n",
    "    plt.tight_layout()\n",
    "    plt.ylabel('True Label')\n",
    "    plt.xlabel('Predicted Label')\n",
    "    plt.show()"
   ]
  },
  {
   "cell_type": "markdown",
   "metadata": {},
   "source": [
    "## 7. Example Usage\n",
    "\n",
    "Demonstrate how to use CLIPText for zero-shot text classification"
   ]
  },
  {
   "cell_type": "code",
   "execution_count": 9,
   "metadata": {},
   "outputs": [
    {
     "name": "stdout",
     "output_type": "stream",
     "text": [
      "\n",
      "Predictions:\n",
      "Text: This is a Manchester United wins against Liverpool in dramatic match news article\n",
      "Predicted: sci/tech, True: sports\n",
      "\n",
      "Text: This is a Apple announces record profits in Q4 earnings report news article\n",
      "Predicted: sci/tech, True: business\n",
      "\n",
      "Text: This is a NASA discovers new exoplanet in habitable zone news article\n",
      "Predicted: sci/tech, True: sci/tech\n",
      "\n",
      "Text: This is a Global markets react to economic policy changes news article\n",
      "Predicted: sci/tech, True: business\n",
      "\n",
      "Overall Accuracy: 25.00%\n",
      "\n",
      "Classification Report:\n",
      "              precision    recall  f1-score   support\n",
      "\n",
      "    business       0.00      0.00      0.00         2\n",
      "    sci/tech       0.25      1.00      0.40         1\n",
      "      sports       0.00      0.00      0.00         1\n",
      "\n",
      "    accuracy                           0.25         4\n",
      "   macro avg       0.08      0.33      0.13         4\n",
      "weighted avg       0.06      0.25      0.10         4\n",
      "\n"
     ]
    },
    {
     "name": "stderr",
     "output_type": "stream",
     "text": [
      "/root/ENTER/envs/clip/lib/python3.7/site-packages/sklearn/metrics/_classification.py:1318: UndefinedMetricWarning: Precision and F-score are ill-defined and being set to 0.0 in labels with no predicted samples. Use `zero_division` parameter to control this behavior.\n",
      "  _warn_prf(average, modifier, msg_start, len(result))\n",
      "/root/ENTER/envs/clip/lib/python3.7/site-packages/sklearn/metrics/_classification.py:1318: UndefinedMetricWarning: Precision and F-score are ill-defined and being set to 0.0 in labels with no predicted samples. Use `zero_division` parameter to control this behavior.\n",
      "  _warn_prf(average, modifier, msg_start, len(result))\n",
      "/root/ENTER/envs/clip/lib/python3.7/site-packages/sklearn/metrics/_classification.py:1318: UndefinedMetricWarning: Precision and F-score are ill-defined and being set to 0.0 in labels with no predicted samples. Use `zero_division` parameter to control this behavior.\n",
      "  _warn_prf(average, modifier, msg_start, len(result))\n"
     ]
    },
    {
     "data": {
      "image/png": "[encoded data removed]",
      "text/plain": [
       "<Figure size 1000x800 with 2 Axes>"
      ]
     },
     "metadata": {},
     "output_type": "display_data"
    }
   ],
   "source": [
    "if __name__ == \"__main__\":\n",
    "    # 加载AG News数据集示例\n",
    "    texts = [\n",
    "        \"Manchester United wins against Liverpool in dramatic match\",\n",
    "        \"Apple announces record profits in Q4 earnings report\",\n",
    "        \"NASA discovers new exoplanet in habitable zone\",\n",
    "        \"Global markets react to economic policy changes\"\n",
    "    ]\n",
    "    labels = [\"sports\", \"business\", \"sci/tech\", \"business\"]\n",
    "    \n",
    "    # 创建数据集\n",
    "    dataset = TextClassificationDataset(texts, labels)\n",
    "    \n",
    "    # 获取标签图片\n",
    "    unique_labels = set(labels)\n",
    "    label_images = get_label_images(unique_labels)\n",
    "    \n",
    "    # 创建CLIPText模型\n",
    "    cliptext = CLIPText(model, preprocess, label_images)\n",
    "    \n",
    "    # 添加prompt\n",
    "    prompt_template = PromptTemplate('news')\n",
    "    texts = [prompt_template.apply(t) for t in texts]\n",
    "    \n",
    "    # 预测并评估\n",
    "    predictions, probs = cliptext.predict(texts, return_probs=True)\n",
    "    print(\"\\nPredictions:\")\n",
    "    for text, pred, true_label in zip(texts, predictions, labels):\n",
    "        print(f\"Text: {text}\\nPredicted: {pred}, True: {true_label}\\n\")\n",
    "    \n",
    "    # 评估性能\n",
    "    accuracy, all_preds, true_labels = evaluate(cliptext, dataset)\n",
    "    print(f\"Overall Accuracy: {accuracy:.2f}%\")\n",
    "    \n",
    "    # 打印详细分类报告\n",
    "    print(\"\\nClassification Report:\")\n",
    "    print(classification_report(true_labels, all_preds))\n",
    "    \n",
    "    # 绘制混淆矩阵\n",
    "    plot_confusion_matrix(true_labels, all_preds, list(unique_labels))"
   ]
  }
 ],
 "metadata": {
  "kernelspec": {
   "display_name": "Python (clip)",
   "language": "python",
   "name": "clip"
  },
  "language_info": {
   "codemirror_mode": {
    "name": "ipython",
    "version": 3
   },
   "file_extension": ".py",
   "mimetype": "text/x-python",
   "name": "python",
   "nbconvert_exporter": "python",
   "pygments_lexer": "ipython3",
   "version": "3.7.12"
  }
 },
 "nbformat": 4,
 "nbformat_minor": 4
}
