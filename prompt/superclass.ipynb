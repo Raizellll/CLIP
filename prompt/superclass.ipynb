{
 "cells": [
  {
   "cell_type": "code",
   "execution_count": 1,
   "metadata": {},
   "outputs": [
    {
     "name": "stdout",
     "output_type": "stream",
     "text": [
      "Files already downloaded and verified\n"
     ]
    }
   ],
   "source": [
    "import clip\n",
    "import torch\n",
    "from torchvision import datasets, transforms\n",
    "from torch.utils.data import DataLoader\n",
    "from tqdm import tqdm\n",
    "import matplotlib.pyplot as plt\n",
    "import time\n",
    "\n",
    "# 设置随机种子以确保可重复性\n",
    "torch.manual_seed(42)\n",
    "\n",
    "# 基础设置\n",
    "device = \"cuda\" if torch.cuda.is_available() else \"cpu\"\n",
    "model, preprocess = clip.load(\"ViT-B/32\", device=device)\n",
    "\n",
    "transform = transforms.Compose([\n",
    "    transforms.Resize((224, 224)),\n",
    "    transforms.ToTensor(),\n",
    "    transforms.Normalize((0.48145466, 0.4578275, 0.40821073), \n",
    "                       (0.26862954, 0.26130258, 0.27577711))\n",
    "])\n",
    "\n",
    "dataset = datasets.CIFAR100(root=\"../data\", download=True, transform=transform)\n",
    "dataloader = DataLoader(dataset, batch_size=32, shuffle=False)\n",
    "class_names = dataset.classes"
   ]
  },
  {
   "cell_type": "code",
   "execution_count": 2,
   "metadata": {},
   "outputs": [],
   "source": [
    "# 加载CIFAR100数据集的超类信息\n",
    "superclass_dict = {\n",
    "    'aquatic mammals': ['beaver', 'dolphin', 'otter', 'seal', 'whale'],\n",
    "    'fish': ['aquarium_fish', 'flatfish', 'ray', 'shark', 'trout'],\n",
    "    'flowers': ['orchid', 'poppy', 'rose', 'sunflower', 'tulip'],\n",
    "    'food containers': ['bottle', 'bowl', 'can', 'cup', 'plate'],\n",
    "    'fruit and vegetables': ['apple', 'mushroom', 'orange', 'pear', 'sweet_pepper'],\n",
    "    'household electrical devices': ['clock', 'keyboard', 'lamp', 'telephone', 'television'],\n",
    "    'household furniture': ['bed', 'chair', 'couch', 'table', 'wardrobe'],\n",
    "    'insects': ['bee', 'beetle', 'butterfly', 'caterpillar', 'cockroach'],\n",
    "    'large carnivores': ['bear', 'leopard', 'lion', 'tiger', 'wolf'],\n",
    "    'large man-made outdoor things': ['bridge', 'castle', 'house', 'road', 'skyscraper'],\n",
    "    'large natural outdoor scenes': ['cloud', 'forest', 'mountain', 'plain', 'sea'],\n",
    "    'large omnivores and herbivores': ['camel', 'cattle', 'chimpanzee', 'elephant', 'kangaroo'],\n",
    "    'medium-sized mammals': ['fox', 'porcupine', 'possum', 'raccoon', 'skunk'],\n",
    "    'non-insect invertebrates': ['crab', 'lobster', 'snail', 'spider', 'worm'],\n",
    "    'people': ['baby', 'boy', 'girl', 'man', 'woman'],\n",
    "    'reptiles': ['crocodile', 'dinosaur', 'lizard', 'snake', 'turtle'],\n",
    "    'small mammals': ['hamster', 'mouse', 'rabbit', 'shrew', 'squirrel'],\n",
    "    'trees': ['maple_tree', 'oak_tree', 'palm_tree', 'pine_tree', 'willow_tree'],\n",
    "    'vehicles 1': ['bicycle', 'bus', 'motorcycle', 'pickup_truck', 'train'],\n",
    "    'vehicles 2': ['lawn_mower', 'rocket', 'streetcar', 'tank', 'tractor']\n",
    "}\n",
    "\n",
    "# 创建子类到超类的映射\n",
    "subclass_to_superclass = {}\n",
    "for superclass, subclasses in superclass_dict.items():\n",
    "    for subclass in subclasses:\n",
    "        subclass_to_superclass[subclass] = superclass"
   ]
  },
  {
   "cell_type": "code",
   "execution_count": 3,
   "metadata": {},
   "outputs": [],
   "source": [
    "def evaluate_prompts(prompt_type, text_prompts):\n",
    "    print(f\"\\n评估 {prompt_type} prompt:\")\n",
    "    \n",
    "    # 记录开始时间\n",
    "    start_time = time.time()\n",
    "    \n",
    "    # 编码文本\n",
    "    text_tokens = clip.tokenize(text_prompts).to(device)\n",
    "    with torch.no_grad():\n",
    "        text_features = model.encode_text(text_tokens)\n",
    "        text_features /= text_features.norm(dim=-1, keepdim=True)\n",
    "\n",
    "    # Zero-shot分类评估\n",
    "    correct = 0\n",
    "    total = 0\n",
    "\n",
    "    for images, labels in tqdm(dataloader, desc=\"分类中\"):\n",
    "        images = images.to(device)\n",
    "        \n",
    "        with torch.no_grad():\n",
    "            image_features = model.encode_image(images)\n",
    "            image_features /= image_features.norm(dim=-1, keepdim=True)\n",
    "            similarity = image_features @ text_features.T\n",
    "            predictions = similarity.argmax(dim=1)\n",
    "        \n",
    "        correct += (predictions.cpu() == labels).sum().item()\n",
    "        total += labels.size(0)\n",
    "\n",
    "    accuracy = correct / total * 100\n",
    "    elapsed_time = time.time() - start_time\n",
    "    \n",
    "    return accuracy, elapsed_time"
   ]
  },
  {
   "cell_type": "code",
   "execution_count": 4,
   "metadata": {},
   "outputs": [
    {
     "name": "stdout",
     "output_type": "stream",
     "text": [
      "\n",
      "评估 Simple prompt:\n"
     ]
    },
    {
     "name": "stderr",
     "output_type": "stream",
     "text": [
      "分类中: 100%|██████████| 1563/1563 [15:22<00:00,  1.70it/s]\n"
     ]
    },
    {
     "name": "stdout",
     "output_type": "stream",
     "text": [
      "\n",
      "评估 Superclass prompt:\n"
     ]
    },
    {
     "name": "stderr",
     "output_type": "stream",
     "text": [
      "分类中: 100%|██████████| 1563/1563 [10:29<00:00,  2.48it/s]\n"
     ]
    }
   ],
   "source": [
    "# 生成两种prompt\n",
    "simple_prompts = [f\"a photo of a {classname}\" for classname in class_names]\n",
    "superclass_prompts = [f\"a photo of a {classname}, which is a type of {subclass_to_superclass[classname]}\" \n",
    "                     for classname in class_names]\n",
    "\n",
    "# 评估两种prompt\n",
    "simple_accuracy, simple_time = evaluate_prompts(\"Simple\", simple_prompts)\n",
    "super_accuracy, super_time = evaluate_prompts(\"Superclass\", superclass_prompts)"
   ]
  },
  {
   "cell_type": "code",
   "execution_count": 5,
   "metadata": {},
   "outputs": [
    {
     "name": "stdout",
     "output_type": "stream",
     "text": [
      "\n",
      "=== 实验结果对比 ===\n",
      "简单Prompt准确率: 60.85% (用时: 929.73秒)\n",
      "超类Prompt准确率: 60.89% (用时: 629.31秒)\n",
      "准确率提升: 0.04%\n"
     ]
    },
    {
     "data": {
      "image/png": "[encoded data removed]",
      "text/plain": [
       "<Figure size 1000x500 with 1 Axes>"
      ]
     },
     "metadata": {},
     "output_type": "display_data"
    }
   ],
   "source": [
    "# 打印结果\n",
    "print(\"\\n=== 实验结果对比 ===\")\n",
    "print(f\"简单Prompt准确率: {simple_accuracy:.2f}% (用时: {simple_time:.2f}秒)\")\n",
    "print(f\"超类Prompt准确率: {super_accuracy:.2f}% (用时: {super_time:.2f}秒)\")\n",
    "print(f\"准确率提升: {super_accuracy - simple_accuracy:.2f}%\")\n",
    "\n",
    "# 可视化结果\n",
    "plt.figure(figsize=(10, 5))\n",
    "plt.bar(['Simple Prompt', 'Superclass Prompt'], [simple_accuracy, super_accuracy])\n",
    "plt.title('CLIP Zero-shot Classification Accuracy Comparison')\n",
    "plt.ylabel('Accuracy (%)')\n",
    "plt.ylim(0, 100)\n",
    "\n",
    "# 在柱状图上添加具体数值\n",
    "for i, v in enumerate([simple_accuracy, super_accuracy]):\n",
    "    plt.text(i, v + 1, f'{v:.2f}%', ha='center')\n",
    "\n",
    "plt.show()"
   ]
  }
 ],
 "metadata": {
  "kernelspec": {
   "display_name": "clip",
   "language": "python",
   "name": "python3"
  },
  "language_info": {
   "codemirror_mode": {
    "name": "ipython",
    "version": 3
   },
   "file_extension": ".py",
   "mimetype": "text/x-python",
   "name": "python",
   "nbconvert_exporter": "python",
   "pygments_lexer": "ipython3",
   "version": "3.7.12"
  }
 },
 "nbformat": 4,
 "nbformat_minor": 2
}
